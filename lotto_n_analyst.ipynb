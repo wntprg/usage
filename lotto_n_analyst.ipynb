{
 "cells": [
  {
   "cell_type": "code",
   "execution_count": 38,
   "metadata": {},
   "outputs": [],
   "source": [
    "# 로또 번호 저장 공간\n",
    "f = open(\"C:/Users/JeongMin/Desktop/파이썬 공부/lotto_machine_learning_git/lotto_number.txt\",\"r\")\n",
    "lotto_numbers = f.readline()"
   ]
  },
  {
   "cell_type": "code",
   "execution_count": 39,
   "metadata": {},
   "outputs": [
    {
     "name": "stdout",
     "output_type": "stream",
     "text": [
      "[10, 23, 29, 33, 37, 40, 16]\n"
     ]
    }
   ],
   "source": [
    "# 로또 번호 회차 별로 나누기\n",
    "#lotto_numbers = lotto_numbers.replace(\" \",\" \").split(\",\")\n",
    "round_lotto_number = []\n",
    "tmp = []\n",
    "lotto_numbers = lotto_numbers.replace('[',\"\").replace(']',\"\").replace(' ',\"\")\n",
    "lotto_numbers = list(lotto_numbers.split(\",\"))\n",
    "\n",
    "for lotto_number in lotto_numbers:\n",
    "    tmp.append(int(lotto_number))\n",
    "    if len(tmp) == 7:\n",
    "        round_lotto_number.append(list(tmp))\n",
    "        tmp = []\n",
    "\n",
    "print(round_lotto_number[0])"
   ]
  },
  {
   "cell_type": "code",
   "execution_count": 45,
   "metadata": {},
   "outputs": [
    {
     "name": "stdout",
     "output_type": "stream",
     "text": [
      "[175, 164, 162, 169, 155, 158, 160, 156, 135, 165, 162, 172, 174, 167, 160, 162, 174, 171, 154, 169, 161, 132, 142, 164, 152, 165, 176, 145, 144, 152, 162, 144, 171, 179, 158, 157, 164, 164, 170, 164, 144, 158, 181, 159, 162]\n"
     ]
    }
   ],
   "source": [
    "import numpy as np\n",
    "\n",
    "# 초기화\n",
    "count = 0                                                                   # 확률 업 카운트\n",
    "percentage = [0] * 45                                                       # 각 공이 나올 확률\n",
    "molecule = [1] * 45                                                         # 분자\n",
    "denominator = list(range(45))                                               # 분모\n",
    "\n",
    "# 기준 비교값 생성\n",
    "standard = list(range(1,46,1))\n",
    "\n",
    "# 두 배열의 교집합 찾기\n",
    "for i in range(1027):\n",
    "    arr1 = np.array(standard)\n",
    "    arr2 = np.array(round_lotto_number[i])\n",
    "    percentage_up = np.intersect1d(arr1,arr2, assume_unique=True)\n",
    "\n",
    "    for j in range(len(percentage_up)):\n",
    "        molecule[percentage_up[j]-1] += 1 \n",
    "        count += 1\n",
    "\n",
    "# 분모 계산      \n",
    "denominator =  [len(denominator) + count*1] * 45\n",
    "\n",
    "# 확률 계산\n",
    "for k in range(45):\n",
    "    percentage[k] = molecule[k] / denominator[k]\n",
    " \n",
    "print(molecule)\n",
    "\n",
    "# 확률 밀도 함수\n",
    "# from numpy import random\n",
    "# x = random.choice([3, 5, 7, 9], p=[0.1, 0.1, 0.8, 0.0], size=(5))\n",
    "# print(x)"
   ]
  }
 ],
 "metadata": {
  "kernelspec": {
   "display_name": "Python 3.10.5 64-bit",
   "language": "python",
   "name": "python3"
  },
  "language_info": {
   "codemirror_mode": {
    "name": "ipython",
    "version": 3
   },
   "file_extension": ".py",
   "mimetype": "text/x-python",
   "name": "python",
   "nbconvert_exporter": "python",
   "pygments_lexer": "ipython3",
   "version": "3.10.5"
  },
  "orig_nbformat": 4,
  "vscode": {
   "interpreter": {
    "hash": "56eee1b2c0fc666285e3bd567ee6e1ffd82635af78b0b3b8a441a631077386f9"
   }
  }
 },
 "nbformat": 4,
 "nbformat_minor": 2
}
