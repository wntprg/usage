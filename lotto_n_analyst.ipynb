{
 "cells": [
  {
   "cell_type": "code",
   "execution_count": 4,
   "metadata": {},
   "outputs": [
    {
     "ename": "FileNotFoundError",
     "evalue": "[Errno 2] No such file or directory: 'C:/Users/Jeongmin/Desktop/python_learning_related/lotto_machine_learning/lotto_number.txt'",
     "output_type": "error",
     "traceback": [
      "\u001b[1;31m---------------------------------------------------------------------------\u001b[0m",
      "\u001b[1;31mFileNotFoundError\u001b[0m                         Traceback (most recent call last)",
      "\u001b[1;32mc:\\Users\\JeongMin\\Desktop\\파이썬 공부\\lotto_machine_learning_git\\lotto_n_analyst.ipynb 셀 1\u001b[0m in \u001b[0;36m<cell line: 2>\u001b[1;34m()\u001b[0m\n\u001b[0;32m      <a href='vscode-notebook-cell:/c%3A/Users/JeongMin/Desktop/%ED%8C%8C%EC%9D%B4%EC%8D%AC%20%EA%B3%B5%EB%B6%80/lotto_machine_learning_git/lotto_n_analyst.ipynb#W0sZmlsZQ%3D%3D?line=0'>1</a>\u001b[0m \u001b[39m# 로또 번호 저장 공간\u001b[39;00m\n\u001b[1;32m----> <a href='vscode-notebook-cell:/c%3A/Users/JeongMin/Desktop/%ED%8C%8C%EC%9D%B4%EC%8D%AC%20%EA%B3%B5%EB%B6%80/lotto_machine_learning_git/lotto_n_analyst.ipynb#W0sZmlsZQ%3D%3D?line=1'>2</a>\u001b[0m f \u001b[39m=\u001b[39m \u001b[39mopen\u001b[39;49m(\u001b[39m\"\u001b[39;49m\u001b[39mC:/Users/Jeongmin/Desktop/python_learning_related/lotto_machine_learning/lotto_number.txt\u001b[39;49m\u001b[39m\"\u001b[39;49m,\u001b[39m\"\u001b[39;49m\u001b[39mr\u001b[39;49m\u001b[39m\"\u001b[39;49m)\n\u001b[0;32m      <a href='vscode-notebook-cell:/c%3A/Users/JeongMin/Desktop/%ED%8C%8C%EC%9D%B4%EC%8D%AC%20%EA%B3%B5%EB%B6%80/lotto_machine_learning_git/lotto_n_analyst.ipynb#W0sZmlsZQ%3D%3D?line=2'>3</a>\u001b[0m lotto_numbers \u001b[39m=\u001b[39m f\u001b[39m.\u001b[39mreadline()\n",
      "\u001b[1;31mFileNotFoundError\u001b[0m: [Errno 2] No such file or directory: 'C:/Users/Jeongmin/Desktop/python_learning_related/lotto_machine_learning/lotto_number.txt'"
     ]
    }
   ],
   "source": [
    "# 로또 번호 저장 공간\n",
    "f = open(\"C:/Users/Jeongmin/Desktop/python_learning_related/lotto_machine_learning/lotto_number.txt\",\"r\")\n",
    "lotto_numbers = f.readline()"
   ]
  },
  {
   "cell_type": "code",
   "execution_count": 3,
   "metadata": {},
   "outputs": [
    {
     "ename": "NameError",
     "evalue": "name 'lotto_numbers' is not defined",
     "output_type": "error",
     "traceback": [
      "\u001b[1;31m---------------------------------------------------------------------------\u001b[0m",
      "\u001b[1;31mNameError\u001b[0m                                 Traceback (most recent call last)",
      "\u001b[1;32mc:\\Users\\JeongMin\\Desktop\\파이썬 공부\\lotto_machine_learning_git\\lotto_n_analyst.ipynb 셀 2\u001b[0m in \u001b[0;36m<cell line: 5>\u001b[1;34m()\u001b[0m\n\u001b[0;32m      <a href='vscode-notebook-cell:/c%3A/Users/JeongMin/Desktop/%ED%8C%8C%EC%9D%B4%EC%8D%AC%20%EA%B3%B5%EB%B6%80/lotto_machine_learning_git/lotto_n_analyst.ipynb#W1sZmlsZQ%3D%3D?line=2'>3</a>\u001b[0m round_lotto_nmber \u001b[39m=\u001b[39m []\n\u001b[0;32m      <a href='vscode-notebook-cell:/c%3A/Users/JeongMin/Desktop/%ED%8C%8C%EC%9D%B4%EC%8D%AC%20%EA%B3%B5%EB%B6%80/lotto_machine_learning_git/lotto_n_analyst.ipynb#W1sZmlsZQ%3D%3D?line=3'>4</a>\u001b[0m tmp \u001b[39m=\u001b[39m []\n\u001b[1;32m----> <a href='vscode-notebook-cell:/c%3A/Users/JeongMin/Desktop/%ED%8C%8C%EC%9D%B4%EC%8D%AC%20%EA%B3%B5%EB%B6%80/lotto_machine_learning_git/lotto_n_analyst.ipynb#W1sZmlsZQ%3D%3D?line=4'>5</a>\u001b[0m lotto_numbers \u001b[39m=\u001b[39m lotto_numbers\u001b[39m.\u001b[39mreplace(\u001b[39m'\u001b[39m\u001b[39m[\u001b[39m\u001b[39m'\u001b[39m,\u001b[39m\"\u001b[39m\u001b[39m\"\u001b[39m)\u001b[39m.\u001b[39mreplace(\u001b[39m'\u001b[39m\u001b[39m]\u001b[39m\u001b[39m'\u001b[39m,\u001b[39m\"\u001b[39m\u001b[39m\"\u001b[39m)\u001b[39m.\u001b[39mreplace(\u001b[39m'\u001b[39m\u001b[39m \u001b[39m\u001b[39m'\u001b[39m,\u001b[39m\"\u001b[39m\u001b[39m\"\u001b[39m)\n\u001b[0;32m      <a href='vscode-notebook-cell:/c%3A/Users/JeongMin/Desktop/%ED%8C%8C%EC%9D%B4%EC%8D%AC%20%EA%B3%B5%EB%B6%80/lotto_machine_learning_git/lotto_n_analyst.ipynb#W1sZmlsZQ%3D%3D?line=5'>6</a>\u001b[0m lotto_numbers \u001b[39m=\u001b[39m \u001b[39mlist\u001b[39m(lotto_numbers\u001b[39m.\u001b[39msplit(\u001b[39m\"\u001b[39m\u001b[39m,\u001b[39m\u001b[39m\"\u001b[39m))\n\u001b[0;32m      <a href='vscode-notebook-cell:/c%3A/Users/JeongMin/Desktop/%ED%8C%8C%EC%9D%B4%EC%8D%AC%20%EA%B3%B5%EB%B6%80/lotto_machine_learning_git/lotto_n_analyst.ipynb#W1sZmlsZQ%3D%3D?line=7'>8</a>\u001b[0m \u001b[39mfor\u001b[39;00m lotto_number \u001b[39min\u001b[39;00m lotto_numbers:\n",
      "\u001b[1;31mNameError\u001b[0m: name 'lotto_numbers' is not defined"
     ]
    }
   ],
   "source": [
    "# 로또 번호 회차 별로 나누기\n",
    "#lotto_numbers = lotto_numbers.replace(\" \",\" \").split(\",\")\n",
    "round_lotto_nmber = []\n",
    "tmp = []\n",
    "lotto_numbers = lotto_numbers.replace('[',\"\").replace(']',\"\").replace(' ',\"\")\n",
    "lotto_numbers = list(lotto_numbers.split(\",\"))\n",
    "\n",
    "for lotto_number in lotto_numbers:\n",
    "    tmp.append(int(lotto_number))\n",
    "    if len(tmp) == 7:\n",
    "        round_lotto_nmber.append(list(tmp))\n",
    "        tmp = []"
   ]
  },
  {
   "cell_type": "code",
   "execution_count": 19,
   "metadata": {},
   "outputs": [
    {
     "name": "stdout",
     "output_type": "stream",
     "text": [
      "[0.2727272727272727, 0.2727272727272727, 0.2727272727272727, 0.18181818181818182]\n",
      "[1.5, 1.5, 1.5, 1]\n",
      "3\n",
      "[5.5, 5.5, 5.5, 5.5]\n",
      "[0, 0, 0, 0, 0, 0, 0, 0, 0, 0, 0, 0, 0, 0, 0, 0, 0, 0, 0, 0, 0, 0, 0, 0, 0, 0, 0, 0, 0, 0, 0, 0, 0, 0, 0, 0, 0, 0, 0, 0, 0, 0, 0, 0, 0, 0, 0, 0, 0, 0, 0, 0, 0, 0, 0, 0, 0, 0, 0, 0, 0, 0, 0, 0, 0, 0, 0, 0, 0, 0, 0, 0, 0, 0, 0, 0, 0, 0, 0, 0, 0, 0, 0, 0, 0, 0, 0, 0, 0, 0, 0, 0, 0, 0, 0, 0, 0, 0, 0, 0]\n"
     ]
    }
   ],
   "source": [
    "import numpy as np\n",
    "\n",
    "list_test = []\n",
    "list_test.append([4,3])\n",
    "list_test.append([3,1])\n",
    "list_test.append([2,1])\n",
    "list_test.append([2,3])\n",
    "list_test.append([1,4])\n",
    "\n",
    "count = 0\n",
    "\n",
    "percentage = [0] * 4\n",
    "molecule = [1,1,1,1]\n",
    "denominator = [4,4,4,4]\n",
    "\n",
    "#for i in range(4):\n",
    "   # molecule.append(1)\n",
    "    #denominator.append(4)\n",
    "# for j in range(4):\n",
    "  #  percentage.append(molecule[j]/denominator[j])    \n",
    "# print(percentage)\n",
    "\n",
    "# 두 배열의 교집합 찾기\n",
    "for i in range(4):\n",
    "    arr1 = np.array(list_test[i])\n",
    "    arr2 = np.array(list_test[i+1])\n",
    "    percentage_up = np.intersect1d(arr1,arr2, assume_unique=True)\n",
    "\n",
    "    if len(percentage_up) == 1:\n",
    "        molecule[int(percentage_up)-1] += 0.5\n",
    "        count += 1\n",
    "\n",
    "# 배열 값 초기화        \n",
    "denominator =  [denominator[0] + count*0.5] * 4\n",
    "\n",
    "for j in range(4):\n",
    "    denominator[j] = denominator[0]\n",
    "    percentage[j] = molecule[j] / denominator[j]\n",
    "    \n",
    "\n",
    "three = [0] * 100\n",
    "  \n",
    "print(percentage)\n",
    "print(molecule)\n",
    "print(count)\n",
    "print(denominator)\n",
    "\n",
    "print(three)\n",
    "# 확률 밀도 함수\n",
    "# from numpy import random\n",
    "# x = random.choice([3, 5, 7, 9], p=[0.1, 0.1, 0.8, 0.0], size=(5))\n",
    "# print(x)"
   ]
  }
 ],
 "metadata": {
  "kernelspec": {
   "display_name": "Python 3.10.5 64-bit",
   "language": "python",
   "name": "python3"
  },
  "language_info": {
   "codemirror_mode": {
    "name": "ipython",
    "version": 3
   },
   "file_extension": ".py",
   "mimetype": "text/x-python",
   "name": "python",
   "nbconvert_exporter": "python",
   "pygments_lexer": "ipython3",
   "version": "3.10.5"
  },
  "orig_nbformat": 4,
  "vscode": {
   "interpreter": {
    "hash": "56eee1b2c0fc666285e3bd567ee6e1ffd82635af78b0b3b8a441a631077386f9"
   }
  }
 },
 "nbformat": 4,
 "nbformat_minor": 2
}
